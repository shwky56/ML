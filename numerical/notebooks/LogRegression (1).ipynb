{
  "nbformat": 4,
  "nbformat_minor": 0,
  "metadata": {
    "colab": {
      "provenance": [],
      "collapsed_sections": [
        "fzaZjJ55tx3k",
        "0fz6EDZzuPru",
        "NVxPRm0kvk38",
        "dAEojwNkv3ke",
        "OjSsB0XowP3b",
        "Q08wvjkdwonT",
        "QLKoxUI1w9bC",
        "jyQ54PQoxJUi",
        "rOiMjdA0xbgt",
        "sAh7HUyKyaOs",
        "iSMb9RGPx07O"
      ]
    },
    "kernelspec": {
      "name": "python3",
      "display_name": "Python 3"
    },
    "language_info": {
      "name": "python"
    }
  },
  "cells": [
    {
      "cell_type": "markdown",
      "source": [
        "# *`Import libraries`* "
      ],
      "metadata": {
        "id": "fzaZjJ55tx3k"
      }
    },
    {
      "cell_type": "code",
      "source": [
        "import pandas as pd\n",
        "import numpy as np\n",
        "import matplotlib.pyplot as plt\n",
        "from sklearn import preprocessing, __all__, linear_model\n",
        "from sklearn.model_selection import train_test_split\n",
        "from sklearn.preprocessing import StandardScaler\n",
        "from sklearn.linear_model import LogisticRegression\n",
        "from sklearn import metrics\n",
        "from mlxtend.plotting import plot_confusion_matrix"
      ],
      "metadata": {
        "id": "4afFbyu3t8-Y"
      },
      "execution_count": null,
      "outputs": []
    },
    {
      "cell_type": "markdown",
      "source": [
        "# *`importing & splitting our dataset`*"
      ],
      "metadata": {
        "id": "0fz6EDZzuPru"
      }
    },
    {
      "cell_type": "code",
      "source": [
        "dt = pd.read_csv(\"iphone_purchase_records.csv\")\n",
        "X = dt.iloc[:, :-1].values\n",
        "y = dt.iloc[:, -1:].values"
      ],
      "metadata": {
        "id": "C7N06UwJuLg4"
      },
      "execution_count": null,
      "outputs": []
    },
    {
      "cell_type": "markdown",
      "source": [
        "# *`convert categorical data(gender) into numerical data`*"
      ],
      "metadata": {
        "id": "NVxPRm0kvk38"
      }
    },
    {
      "cell_type": "code",
      "source": [
        "le = preprocessing.LabelEncoder()\n",
        "X[:, 0] = le.fit_transform(X[:, 0])"
      ],
      "metadata": {
        "id": "fMtEyFYFuiWT"
      },
      "execution_count": null,
      "outputs": []
    },
    {
      "cell_type": "markdown",
      "source": [
        "# *`Split Data into training and testing`*"
      ],
      "metadata": {
        "id": "dAEojwNkv3ke"
      }
    },
    {
      "cell_type": "code",
      "source": [
        "X_train, X_test, y_train, y_test = train_test_split(X, y, test_size=0.15, random_state=0)\n"
      ],
      "metadata": {
        "id": "aB-JfRTvwDqu"
      },
      "execution_count": null,
      "outputs": []
    },
    {
      "cell_type": "markdown",
      "source": [
        "# *`feature scaling - normalization aka optimization `*"
      ],
      "metadata": {
        "id": "OjSsB0XowP3b"
      }
    },
    {
      "cell_type": "code",
      "source": [
        "scaler = StandardScaler()\n",
        "X_train = scaler.fit_transform(X_train)\n",
        "X_test = scaler.transform(X_test)"
      ],
      "metadata": {
        "id": "gYYG1q9Iwhuy"
      },
      "execution_count": null,
      "outputs": []
    },
    {
      "cell_type": "markdown",
      "source": [
        "# *`Logistic Regression Classifier`*"
      ],
      "metadata": {
        "id": "Q08wvjkdwonT"
      }
    },
    {
      "cell_type": "code",
      "source": [
        "classifier = LogisticRegression(random_state=0, solver=\"liblinear\", penalty='l2')\n",
        "classifier.fit(X_train, y_train.ravel())"
      ],
      "metadata": {
        "colab": {
          "base_uri": "https://localhost:8080/"
        },
        "id": "BGy4liMiwznU",
        "outputId": "aaa101f9-e923-4bce-b0cc-7b6802d8e508"
      },
      "execution_count": null,
      "outputs": [
        {
          "output_type": "execute_result",
          "data": {
            "text/plain": [
              "LogisticRegression(random_state=0, solver='liblinear')"
            ]
          },
          "metadata": {},
          "execution_count": 10
        }
      ]
    },
    {
      "cell_type": "markdown",
      "source": [
        "# *`Prediction`*"
      ],
      "metadata": {
        "id": "QLKoxUI1w9bC"
      }
    },
    {
      "cell_type": "code",
      "source": [
        "y_pred = classifier.predict(X_test)"
      ],
      "metadata": {
        "id": "AvXQmV4hxFAN"
      },
      "execution_count": null,
      "outputs": []
    },
    {
      "cell_type": "markdown",
      "source": [
        "# *`Confusion Matrix`*"
      ],
      "metadata": {
        "id": "jyQ54PQoxJUi"
      }
    },
    {
      "cell_type": "code",
      "source": [
        "cm = metrics.confusion_matrix(y_test, y_pred)\n",
        "fig, ax = plot_confusion_matrix(conf_mat=cm)\n",
        "plt.show()"
      ],
      "metadata": {
        "colab": {
          "base_uri": "https://localhost:8080/",
          "height": 279
        },
        "id": "KwY5F9FkxPh2",
        "outputId": "1003a58f-d693-480f-b2f9-3821552739be"
      },
      "execution_count": null,
      "outputs": [
        {
          "output_type": "display_data",
          "data": {
            "text/plain": [
              "<Figure size 432x288 with 1 Axes>"
            ],
            "image/png": "[encoded data removed]"
          },
          "metadata": {
            "needs_background": "light"
          }
        }
      ]
    },
    {
      "cell_type": "markdown",
      "source": [
        "#*`Accuracy score percentage`*"
      ],
      "metadata": {
        "id": "rOiMjdA0xbgt"
      }
    },
    {
      "cell_type": "code",
      "source": [
        "accuracy = metrics.accuracy_score(y_test, y_pred)\n",
        "print(\"Accuracy score:\", accuracy * 100)"
      ],
      "metadata": {
        "colab": {
          "base_uri": "https://localhost:8080/"
        },
        "id": "RFqDwD-WxjsK",
        "outputId": "669a51ce-8d0e-4672-d321-a5ca6f1b84be"
      },
      "execution_count": null,
      "outputs": [
        {
          "output_type": "stream",
          "name": "stdout",
          "text": [
            "Accuracy score: 95.0\n"
          ]
        }
      ]
    },
    {
      "cell_type": "markdown",
      "source": [
        "#*`Precision score percentage`*"
      ],
      "metadata": {
        "id": "sAh7HUyKyaOs"
      }
    },
    {
      "cell_type": "code",
      "source": [
        "precision = metrics.precision_score(y_test, y_pred)\n",
        "print(\"Precision score:\", precision * 100)"
      ],
      "metadata": {
        "colab": {
          "base_uri": "https://localhost:8080/"
        },
        "outputId": "b018facb-3d93-4f64-f9f1-a5421bcc80a7",
        "id": "TkzDCis_x07O"
      },
      "execution_count": null,
      "outputs": [
        {
          "output_type": "stream",
          "name": "stdout",
          "text": [
            "Precision score: 92.85714285714286\n"
          ]
        }
      ]
    },
    {
      "cell_type": "markdown",
      "source": [
        "#*`Recall score percentage`*"
      ],
      "metadata": {
        "id": "iSMb9RGPx07O"
      }
    },
    {
      "cell_type": "code",
      "source": [
        "recall = metrics.recall_score(y_test, y_pred)\n",
        "print(\"Recall score:\", recall * 100)"
      ],
      "metadata": {
        "colab": {
          "base_uri": "https://localhost:8080/"
        },
        "id": "OHOu-qzqyfqs",
        "outputId": "1519fc3a-0228-48f5-dbc7-677081ff04c1"
      },
      "execution_count": null,
      "outputs": [
        {
          "output_type": "stream",
          "name": "stdout",
          "text": [
            "Recall score: 86.66666666666667\n"
          ]
        }
      ]
    },
    {
      "cell_type": "markdown",
      "source": [
        "# `calculate the fpr and tpr for all thresholds of the classification`\n"
      ],
      "metadata": {
        "id": "idsmrypCysLx"
      }
    },
    {
      "cell_type": "code",
      "source": [
        "probs = classifier.predict_proba(X_test)\n",
        "preds = probs[:, 1]\n",
        "fpr, tpr, threshold = metrics.roc_curve(y_test, preds)\n",
        "roc_auc = metrics.auc(fpr, tpr)"
      ],
      "metadata": {
        "id": "qS2O3M2UywMy"
      },
      "execution_count": null,
      "outputs": []
    },
    {
      "cell_type": "markdown",
      "source": [
        "# *`ROC curve`*"
      ],
      "metadata": {
        "id": "yXQZqT-iy4lE"
      }
    },
    {
      "cell_type": "code",
      "source": [
        "plt.title('ROC curve')\n",
        "plt.plot(fpr, tpr, 'b', label='AUC = %0.2f' % roc_auc)\n",
        "plt.legend(loc='lower right')\n",
        "plt.plot([0, 1], [0, 1], 'r--')\n",
        "plt.xlim([0, 1])\n",
        "plt.ylim([0, 1])\n",
        "plt.ylabel('True Positive Rate')\n",
        "plt.xlabel('False Positive Rate')\n",
        "plt.show()"
      ],
      "metadata": {
        "colab": {
          "base_uri": "https://localhost:8080/",
          "height": 295
        },
        "id": "iv78KWndzDoA",
        "outputId": "348c0671-7136-4ae8-9571-fed0b07097e5"
      },
      "execution_count": null,
      "outputs": [
        {
          "output_type": "display_data",
          "data": {
            "text/plain": [
              "<Figure size 432x288 with 1 Axes>"
            ],
            "image/png": "[encoded data removed]"
          },
          "metadata": {
            "needs_background": "light"
          }
        }
      ]
    }
  ]
}